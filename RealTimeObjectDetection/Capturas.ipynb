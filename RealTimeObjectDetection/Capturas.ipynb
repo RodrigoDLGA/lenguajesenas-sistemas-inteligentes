{
 "cells": [
  {
   "cell_type": "markdown",
   "metadata": {},
   "source": [
    "**Dependencias para tomar capturas:**"
   ]
  },
  {
   "cell_type": "code",
   "execution_count": null,
   "metadata": {},
   "outputs": [],
   "source": [
    "import cv2 # Librería de OpenCV\n",
    "import os #Para los directorios de los archivos\n",
    "import time #Para tener un tiempo definido de tomar capturas\n",
    "import uuid #Para nombrar las imagenes"
   ]
  },
  {
   "cell_type": "markdown",
   "metadata": {},
   "source": [
    "**Directorio donde se guardará las imagenes recolectadas:**"
   ]
  },
  {
   "cell_type": "code",
   "execution_count": null,
   "metadata": {},
   "outputs": [],
   "source": [
    "DIR_IMG = 'Tenserflow/workspace/images/imagenrec'"
   ]
  },
  {
   "cell_type": "markdown",
   "metadata": {},
   "source": [
    "**Nombre para cada una de las etiquetas de las poses y numero de imagenes que se tomaran para cada etiqueta**"
   ]
  },
  {
   "cell_type": "code",
   "execution_count": null,
   "metadata": {},
   "outputs": [],
   "source": [
    "etiquetas = ['Casa','Vaca','Mesa','Carne','Buho']\n",
    "numero_img = 15"
   ]
  },
  {
   "cell_type": "markdown",
   "metadata": {},
   "source": [
    "**Código para recolectar las imágenes**"
   ]
  },
  {
   "cell_type": "code",
   "execution_count": null,
   "metadata": {},
   "outputs": [],
   "source": [
    "for etiqueta in etiquetas:\n",
    "    !mkdir {'Tenserflow/workspace/images/imagenrec/'+etiqueta} #crea un directorio para cada etiqueta\n",
    "    cap = cv2.VideoCapture(0) #Inicializa la videocaptura\n",
    "    print('Recolectando imagenes para {}'.format(etiqueta)) \n",
    "    time.sleep(5) #Esperar 5 segundos para darnos tiempo a cambiar de posición \n",
    "    for imgnum in range(numero_img): #Ciclar hasta el numero de imagenes que queremos recolectar\n",
    "        ret, frame = cap.read() #Prepara la captura\n",
    "        #vvv-- Define el directorio de la imagen con nombres unicos e individuales --vvv\n",
    "        imgname = os.path.join(DIR_IMG, etiqueta, etiqueta+'.'+'{}.jpg'.format(str(uuid.uuid1()))) \n",
    "        cv2.imwrite(imgname, frame) #Lo escribe en ese directorio\n",
    "        cv2.imshow('frame',frame) #Despliega en pantalla \n",
    "        time.sleep(2) #Esperar otros dos segundos para cambiar de posición\n",
    "        \n",
    "        if cv2.waitKey(1) & 0xFF == ord('q'): #En caso de error --> break\n",
    "            break\n",
    "    cap.release() #Libera la videocaptura"
   ]
  },
  {
   "cell_type": "code",
   "execution_count": null,
   "metadata": {},
   "outputs": [],
   "source": []
  }
 ],
 "metadata": {
  "kernelspec": {
   "display_name": "Python 3",
   "language": "python",
   "name": "python3"
  },
  "language_info": {
   "codemirror_mode": {
    "name": "ipython",
    "version": 3
   },
   "file_extension": ".py",
   "mimetype": "text/x-python",
   "name": "python",
   "nbconvert_exporter": "python",
   "pygments_lexer": "ipython3",
   "version": "3.8.5"
  }
 },
 "nbformat": 4,
 "nbformat_minor": 4
}
